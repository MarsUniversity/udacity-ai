{
 "cells": [
  {
   "cell_type": "markdown",
   "id": "49aa818c-4712-455b-af7c-1a6eff843742",
   "metadata": {},
   "source": [
    "![](pics/header.png)\n",
    "\n",
    "# Deep Learning: Datasets\n",
    "\n",
    "Kevin Walchko\n",
    "\n",
    "---\n",
    "\n",
    "These notes come from Udacity's Deep Learning Nanodegree"
   ]
  },
  {
   "cell_type": "markdown",
   "id": "dd40bc5a-0bf2-453e-9b94-54af0d216848",
   "metadata": {},
   "source": [
    "## Datasets\n",
    "\n",
    "Augment the datasets with Torch's [transforms](https://pytorch.org/docs/stable/torchvision/transforms.html) to make your NN more statistically invariant.\n",
    "\n",
    "```python\n",
    "# convert data to a normalized torch.FloatTensor\n",
    "transform = transforms.Compose([\n",
    "    transforms.RandomHorizontalFlip(), # randomly flip and rotate\n",
    "    transforms.RandomRotation(10),\n",
    "    transforms.ToTensor(),\n",
    "    transforms.Normalize((0.5, 0.5, 0.5), (0.5, 0.5, 0.5))\n",
    "    ])\n",
    "```\n",
    "\n",
    "- **Image resizing:** a common pre-processing step for CNNs and typically resized to a power of 2\n",
    "- **Data normalization:** is typically done by subtracting the mean (the average of all pixel values) from each pixel, and then dividing the result by the standard deviation of all the pixel values. The distribution of such data should resemble a Gaussian function centered at zero. For image inputs we need the pixel numbers to be positive, so we often choose to scale the data in a normalized range [0,1].\n",
    "- **Invariance:** the NN correctly identifies the object in the image reguardless of the objects:\n",
    "    - size\n",
    "    - location (translation)\n",
    "    - rotation\n",
    "- **Data Augmentation:** adding versions of scaled, rotated, and translated versions of your images to your training dataset"
   ]
  },
  {
   "cell_type": "code",
   "execution_count": null,
   "id": "6a21b635-d720-4f64-b9d4-4976e6c51849",
   "metadata": {},
   "outputs": [],
   "source": []
  }
 ],
 "metadata": {
  "kernelspec": {
   "display_name": "Python 3 (ipykernel)",
   "language": "python",
   "name": "python3"
  },
  "language_info": {
   "codemirror_mode": {
    "name": "ipython",
    "version": 3
   },
   "file_extension": ".py",
   "mimetype": "text/x-python",
   "name": "python",
   "nbconvert_exporter": "python",
   "pygments_lexer": "ipython3",
   "version": "3.9.10"
  }
 },
 "nbformat": 4,
 "nbformat_minor": 5
}
