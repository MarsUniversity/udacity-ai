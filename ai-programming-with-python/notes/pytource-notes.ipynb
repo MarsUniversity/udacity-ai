{
 "cells": [
  {
   "cell_type": "markdown",
   "id": "01e255f6-f912-4f9e-8ff6-a9c1e2ff76c4",
   "metadata": {},
   "source": [
    "# PyTorch\n",
    "\n",
    "PyTorch was released in early 2017 and has been making a pretty big impact in the deep learning community. It's developed as an open source project by the Facebook AI Research team.\n",
    "\n",
    "- tensor: main data structure \n",
    "- autograd: automatically calculates gradients for backpropagation"
   ]
  },
  {
   "cell_type": "code",
   "execution_count": null,
   "id": "aabeb3bc-2fd8-4390-a072-bb761a94eb3f",
   "metadata": {},
   "outputs": [],
   "source": []
  }
 ],
 "metadata": {
  "kernelspec": {
   "display_name": "Python 3 (ipykernel)",
   "language": "python",
   "name": "python3"
  },
  "language_info": {
   "codemirror_mode": {
    "name": "ipython",
    "version": 3
   },
   "file_extension": ".py",
   "mimetype": "text/x-python",
   "name": "python",
   "nbconvert_exporter": "python",
   "pygments_lexer": "ipython3",
   "version": "3.9.10"
  }
 },
 "nbformat": 4,
 "nbformat_minor": 5
}
