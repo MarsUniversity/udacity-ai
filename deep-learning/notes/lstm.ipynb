{
 "cells": [
  {
   "cell_type": "markdown",
   "id": "1b308c52-ea7c-468b-94a8-6fcc95855da3",
   "metadata": {},
   "source": [
    "![](pics/header.png)\n",
    "\n",
    "# Deep Learning: Long Short Term Memory (LSTM)\n",
    "\n",
    "Kevin Walchko\n",
    "\n",
    "---"
   ]
  },
  {
   "cell_type": "markdown",
   "id": "b62b45c2-e62b-4806-9205-98e17ffac3a0",
   "metadata": {},
   "source": [
    "## Overview\n",
    "\n",
    "<table> \n",
    "    <tr>\n",
    "        <td><img src=\"pics/lstm/rnn-neuron.png\" width=\"70%\"></td>\n",
    "        <td><img src=\"pics/lstm/lstm.png\"></td>\n",
    "    </tr>\n",
    "</table>\n",
    "\n",
    "A normal RNN neuron is shown on the left and an LSTM cell is shown on the right.\n",
    "\n",
    "- Avoid vanshing gradient problem\n",
    "- Learns over many time steps with backpropagation\n",
    "    - Fully differentiable\n",
    "    - Contains: sigmoid, hyperbolic tangent, multiplications and addition\n",
    "    \n",
    "### References\n",
    "\n",
    "- CS231n: [Andrej Karpathy's lecture on RNN and LSTMs](https://www.youtube.com/watch?v=iX5V1WpxxkY)\n",
    "- Chris Olah's LSTM [post](http://colah.github.io/posts/2015-08-Understanding-LSTMs/)\n",
    "- Edwin Chen's LSTM [post](http://blog.echen.me/2017/05/30/exploring-lstms/)"
   ]
  },
  {
   "cell_type": "code",
   "execution_count": null,
   "id": "c6e3eb9b-e847-426d-8076-8a64cf9068de",
   "metadata": {},
   "outputs": [],
   "source": []
  }
 ],
 "metadata": {
  "kernelspec": {
   "display_name": "Python 3 (ipykernel)",
   "language": "python",
   "name": "python3"
  },
  "language_info": {
   "codemirror_mode": {
    "name": "ipython",
    "version": 3
   },
   "file_extension": ".py",
   "mimetype": "text/x-python",
   "name": "python",
   "nbconvert_exporter": "python",
   "pygments_lexer": "ipython3",
   "version": "3.9.10"
  }
 },
 "nbformat": 4,
 "nbformat_minor": 5
}
