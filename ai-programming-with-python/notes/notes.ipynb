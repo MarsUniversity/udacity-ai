{
 "cells": [
  {
   "cell_type": "markdown",
   "id": "c5cd9343-6c46-4a4f-a61f-c6a486e98249",
   "metadata": {},
   "source": [
    "## Forward Propagation\n",
    "\n",
    "$$\n",
    "\\hat y = \\sigma (Wx+b)\n",
    "$$\n",
    "\n",
    "\n",
    "- $y$: Truth label which is either 0 or 1\n",
    "- $\\hat y$: Prediction or probability on a scale of 0 .. 1, $\\sigma (Wx+b)$\n",
    "- $w_i$: Weight value from previous activation layer perceptron\n",
    "- b: Bias\n",
    "- $x_i$ or $a_i$: activation from a previous perceptron layer, $\\hat y$\n",
    "- perceptron: The perceptron is a simplified model of a biological neuron and another name for activation, $\\hat y$ \n",
    "- $\\sigma$: Activation function. There are many types and this is the simplest. Other examples are ReLU or tanh, $\\sigma = 1/(1+e^{-x})$\n",
    "\n",
    "\n",
    "## Gradient Decent\n",
    "\n",
    "- minimize cost function ($C$), which is the negative of the gradient: $-\\nabla C$ \n",
    "    - $C$ must be continuous and differentiable \n",
    "    - Cost is calculated as: $\\sum_{i=0}^{n-1} (y_i - truth_i)$\n",
    "    - Typically there is a learning rate added (\\eta) to control convergence speed: $- \\eta \\nabla C$ \n",
    "    - Step size is a function of slope to minimize overshooting a local minimum\n",
    "- When updating, you adjust your weights and bias based on the sign and magnitude\n",
    "    - $-\\nabla C = [-1 -0.3 5.6 -0.001 \\dots]$ where the -1 tells us to decrease the weights/bias for that output while the +5.6 tells us to increase the wieghts/bias for that output\n",
    "    - Also, the +5.6 is more important (has a greater effect) on the network output than the -0.001\n",
    "    \n",
    "## Cross Entropy\n",
    "\n",
    "- Binary system (red/blue): $ $\n",
    "\n",
    "| | Control | BP Eqn | Def |\n",
    "|---|---|---|---|\n",
    "| activations | N | . | . |\n",
    "| weights     | Y | . | value of weighted connections between perceptrons |\n",
    "| bias        | Y | . | activation threshold |\n",
    "\n",
    "## One Hot Encoding\n",
    "\n",
    "Turning labels into numbers without impling importance between them.\n",
    "\n",
    "![](pics/one-hot-encoding.png)\n",
    "\n",
    "## Maximum Likelihood\n",
    "\n",
    "The probability ($\\hat y$) of something is given by:\n",
    "\n",
    "$$\n",
    "\\hat y = \\sigma (Wx+b)\n",
    "$$\n",
    "\n",
    "## Cross Entropy\n",
    "\n",
    "Since the probability is a value between 0 - 1, the log will be negative, so we correct this by taking the negative, so we get  a positive number. This connects probability and *error function* together.\n",
    "\n",
    "$$\n",
    "\\sum - \\ln(\\hat y)\n",
    "$$\n",
    "\n",
    "- small cross entropy: event and probability are likely\n",
    "- high cross entropy: event and probability are unlikely"
   ]
  },
  {
   "cell_type": "code",
   "execution_count": null,
   "id": "e5e97ac7-8cb4-4121-82a8-d7c45b043c3d",
   "metadata": {},
   "outputs": [],
   "source": []
  },
  {
   "cell_type": "code",
   "execution_count": null,
   "id": "0ecc126e-4c09-47b7-8942-e560df73dd53",
   "metadata": {},
   "outputs": [],
   "source": []
  },
  {
   "cell_type": "code",
   "execution_count": null,
   "id": "96109aa9-0f6a-4f1c-90d2-23cab3b3140a",
   "metadata": {},
   "outputs": [],
   "source": []
  }
 ],
 "metadata": {
  "kernelspec": {
   "display_name": "Python 3 (ipykernel)",
   "language": "python",
   "name": "python3"
  },
  "language_info": {
   "codemirror_mode": {
    "name": "ipython",
    "version": 3
   },
   "file_extension": ".py",
   "mimetype": "text/x-python",
   "name": "python",
   "nbconvert_exporter": "python",
   "pygments_lexer": "ipython3",
   "version": "3.9.10"
  }
 },
 "nbformat": 4,
 "nbformat_minor": 5
}
