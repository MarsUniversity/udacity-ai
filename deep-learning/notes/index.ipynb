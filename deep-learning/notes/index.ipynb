{
 "cells": [
  {
   "cell_type": "markdown",
   "id": "d3f5c443-eb4b-4048-a21f-6d58d1e0f64d",
   "metadata": {},
   "source": [
    "![](pics/header.png)\n",
    "\n",
    "# Deep Learning Nanodegree\n",
    "\n",
    "Kevin Walchko\n",
    "\n",
    "---\n",
    "\n",
    "These notes come from Udacity's Deep Learning Nanodegree\n",
    "\n",
    "- [Multi-Layer Perceptron Network](mpl-network.ipynb)\n",
    "- [Convolutional Neural Network](cnn.ipynb)\n",
    "- [Autoencoder](autoencoder.ipynb)\n",
    "- [Capsule Network](capsule-network.ipynb)\n",
    "- [Recurrent Neural Network](rnn.ipynb)\n",
    "- [Long Short-term Memory](lstm.ipynb)\n",
    "- [Generative Neural Network](gan.ipynb)\n",
    "\n",
    "Other\n",
    "\n",
    "- [Optimization Functions and Losses for Backpropagation](toch-optim.ipynb)\n",
    "- [PyTorch Dataset](pytorch-datasets.ipynb)\n",
    "- [TorchInfo](torchinfo-summary.ipynb)"
   ]
  },
  {
   "cell_type": "code",
   "execution_count": null,
   "id": "294e2e50-5f7f-45a9-8154-73f0211c6b94",
   "metadata": {},
   "outputs": [],
   "source": []
  }
 ],
 "metadata": {
  "kernelspec": {
   "display_name": "Python 3 (ipykernel)",
   "language": "python",
   "name": "python3"
  },
  "language_info": {
   "codemirror_mode": {
    "name": "ipython",
    "version": 3
   },
   "file_extension": ".py",
   "mimetype": "text/x-python",
   "name": "python",
   "nbconvert_exporter": "python",
   "pygments_lexer": "ipython3",
   "version": "3.9.10"
  }
 },
 "nbformat": 4,
 "nbformat_minor": 5
}
